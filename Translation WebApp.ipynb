{
 "cells": [
  {
   "cell_type": "markdown",
   "id": "d18b92ed",
   "metadata": {},
   "source": [
    "# 1. Install Dependencies"
   ]
  },
  {
   "cell_type": "code",
   "execution_count": 2,
   "id": "1ab9fb8b",
   "metadata": {},
   "outputs": [
    {
     "name": "stdout",
     "output_type": "stream",
     "text": [
      "Defaulting to user installation because normal site-packages is not writeable\n",
      "Collecting torch\n",
      "  Using cached torch-1.13.1-cp310-cp310-manylinux1_x86_64.whl (887.5 MB)\n",
      "Collecting torchvision\n",
      "  Downloading torchvision-0.14.1-cp310-cp310-manylinux1_x86_64.whl (24.2 MB)\n",
      "\u001b[2K     \u001b[38;2;114;156;31m━━━━━━━━━━━━━━━━━━━━━━━━━━━━━━━━━━━━━━━\u001b[0m \u001b[32m24.2/24.2 MB\u001b[0m \u001b[31m604.2 kB/s\u001b[0m eta \u001b[36m0:00:00\u001b[0mm eta \u001b[36m0:00:01\u001b[0m[36m0:00:02\u001b[0m\n",
      "\u001b[?25hCollecting torchaudio\n",
      "  Downloading torchaudio-0.13.1-cp310-cp310-manylinux1_x86_64.whl (4.2 MB)\n",
      "\u001b[2K     \u001b[38;2;114;156;31m━━━━━━━━━━━━━━━━━━━━━━━━━━━━━━━━━━━━━━━━\u001b[0m \u001b[32m4.2/4.2 MB\u001b[0m \u001b[31m716.2 kB/s\u001b[0m eta \u001b[36m0:00:00\u001b[0mm eta \u001b[36m0:00:01\u001b[0m[36m0:00:01\u001b[0m\n",
      "\u001b[?25hCollecting nvidia-cuda-nvrtc-cu11==11.7.99\n",
      "  Using cached nvidia_cuda_nvrtc_cu11-11.7.99-2-py3-none-manylinux1_x86_64.whl (21.0 MB)\n",
      "Collecting nvidia-cuda-runtime-cu11==11.7.99\n",
      "  Using cached nvidia_cuda_runtime_cu11-11.7.99-py3-none-manylinux1_x86_64.whl (849 kB)\n",
      "Collecting typing-extensions\n",
      "  Using cached typing_extensions-4.4.0-py3-none-any.whl (26 kB)\n",
      "Collecting nvidia-cublas-cu11==11.10.3.66\n",
      "  Using cached nvidia_cublas_cu11-11.10.3.66-py3-none-manylinux1_x86_64.whl (317.1 MB)\n",
      "Collecting nvidia-cudnn-cu11==8.5.0.96\n",
      "  Using cached nvidia_cudnn_cu11-8.5.0.96-2-py3-none-manylinux1_x86_64.whl (557.1 MB)\n",
      "Requirement already satisfied: wheel in /usr/lib/python3/dist-packages (from nvidia-cublas-cu11==11.10.3.66->torch) (0.37.1)\n",
      "Requirement already satisfied: setuptools in /usr/lib/python3/dist-packages (from nvidia-cublas-cu11==11.10.3.66->torch) (59.6.0)\n",
      "Requirement already satisfied: requests in /usr/lib/python3/dist-packages (from torchvision) (2.25.1)\n",
      "Requirement already satisfied: pillow!=8.3.*,>=5.3.0 in /usr/lib/python3/dist-packages (from torchvision) (9.0.1)\n",
      "Requirement already satisfied: numpy in /usr/lib/python3/dist-packages (from torchvision) (1.21.5)\n",
      "Installing collected packages: typing-extensions, nvidia-cuda-runtime-cu11, nvidia-cuda-nvrtc-cu11, nvidia-cublas-cu11, nvidia-cudnn-cu11, torch, torchvision, torchaudio\n",
      "\u001b[33m  WARNING: The scripts convert-caffe2-to-onnx, convert-onnx-to-caffe2 and torchrun are installed in '/home/ala/.local/bin' which is not on PATH.\n",
      "  Consider adding this directory to PATH or, if you prefer to suppress this warning, use --no-warn-script-location.\u001b[0m\u001b[33m\n",
      "\u001b[0mSuccessfully installed nvidia-cublas-cu11-11.10.3.66 nvidia-cuda-nvrtc-cu11-11.7.99 nvidia-cuda-runtime-cu11-11.7.99 nvidia-cudnn-cu11-8.5.0.96 torch-1.13.1 torchaudio-0.13.1 torchvision-0.14.1 typing-extensions-4.4.0\n"
     ]
    }
   ],
   "source": [
    "!pip install torch torchvision torchaudio"
   ]
  },
  {
   "cell_type": "code",
   "execution_count": 3,
   "id": "3deb6967",
   "metadata": {},
   "outputs": [
    {
     "name": "stdout",
     "output_type": "stream",
     "text": [
      "Defaulting to user installation because normal site-packages is not writeable\n",
      "Requirement already satisfied: transformers in ./.local/lib/python3.10/site-packages (4.25.1)\n",
      "Requirement already satisfied: ipywidgets in ./.local/lib/python3.10/site-packages (8.0.4)\n",
      "Requirement already satisfied: gradio in ./.local/lib/python3.10/site-packages (3.15.0)\n",
      "Requirement already satisfied: huggingface-hub<1.0,>=0.10.0 in ./.local/lib/python3.10/site-packages (from transformers) (0.11.1)\n",
      "Requirement already satisfied: tqdm>=4.27 in ./.local/lib/python3.10/site-packages (from transformers) (4.64.1)\n",
      "Requirement already satisfied: pyyaml>=5.1 in /usr/lib/python3/dist-packages (from transformers) (5.4.1)\n",
      "Requirement already satisfied: filelock in /usr/local/lib/python3.10/dist-packages (from transformers) (3.8.2)\n",
      "Requirement already satisfied: tokenizers!=0.11.3,<0.14,>=0.11.1 in ./.local/lib/python3.10/site-packages (from transformers) (0.13.2)\n",
      "Requirement already satisfied: requests in /usr/lib/python3/dist-packages (from transformers) (2.25.1)\n",
      "Requirement already satisfied: regex!=2019.12.17 in ./.local/lib/python3.10/site-packages (from transformers) (2022.10.31)\n",
      "Requirement already satisfied: numpy>=1.17 in /usr/lib/python3/dist-packages (from transformers) (1.21.5)\n",
      "Requirement already satisfied: packaging>=20.0 in /usr/lib/python3/dist-packages (from transformers) (21.3)\n",
      "Requirement already satisfied: traitlets>=4.3.1 in /usr/lib/python3/dist-packages (from ipywidgets) (5.1.1)\n",
      "Requirement already satisfied: jupyterlab-widgets~=3.0 in ./.local/lib/python3.10/site-packages (from ipywidgets) (3.0.5)\n",
      "Requirement already satisfied: ipython>=6.1.0 in /usr/lib/python3/dist-packages (from ipywidgets) (7.31.1)\n",
      "Requirement already satisfied: widgetsnbextension~=4.0 in ./.local/lib/python3.10/site-packages (from ipywidgets) (4.0.5)\n",
      "Requirement already satisfied: ipykernel>=4.5.1 in /usr/lib/python3/dist-packages (from ipywidgets) (6.7.0)\n",
      "Requirement already satisfied: fastapi in ./.local/lib/python3.10/site-packages (from gradio) (0.88.0)\n",
      "Requirement already satisfied: pillow in /usr/lib/python3/dist-packages (from gradio) (9.0.1)\n",
      "Requirement already satisfied: markdown-it-py[linkify,plugins] in ./.local/lib/python3.10/site-packages (from gradio) (2.1.0)\n",
      "Requirement already satisfied: pydantic in ./.local/lib/python3.10/site-packages (from gradio) (1.10.3)\n",
      "Requirement already satisfied: fsspec in ./.local/lib/python3.10/site-packages (from gradio) (2022.11.0)\n",
      "Requirement already satisfied: aiohttp in ./.local/lib/python3.10/site-packages (from gradio) (3.8.3)\n",
      "Requirement already satisfied: pydub in ./.local/lib/python3.10/site-packages (from gradio) (0.25.1)\n",
      "Requirement already satisfied: uvicorn in ./.local/lib/python3.10/site-packages (from gradio) (0.20.0)\n",
      "Requirement already satisfied: orjson in ./.local/lib/python3.10/site-packages (from gradio) (3.8.3)\n",
      "Requirement already satisfied: ffmpy in ./.local/lib/python3.10/site-packages (from gradio) (0.3.0)\n",
      "Requirement already satisfied: jinja2 in /usr/lib/python3/dist-packages (from gradio) (3.0.3)\n",
      "Requirement already satisfied: pycryptodome in ./.local/lib/python3.10/site-packages (from gradio) (3.16.0)\n",
      "Requirement already satisfied: altair>=4.2.0 in ./.local/lib/python3.10/site-packages (from gradio) (4.2.0)\n",
      "Requirement already satisfied: websockets>=10.0 in ./.local/lib/python3.10/site-packages (from gradio) (10.4)\n",
      "Requirement already satisfied: matplotlib in /usr/lib/python3/dist-packages (from gradio) (3.5.1)\n",
      "Requirement already satisfied: python-multipart in ./.local/lib/python3.10/site-packages (from gradio) (0.0.5)\n",
      "Requirement already satisfied: markupsafe in /usr/lib/python3/dist-packages (from gradio) (2.0.1)\n",
      "Requirement already satisfied: pandas in ./.local/lib/python3.10/site-packages (from gradio) (1.5.2)\n",
      "Requirement already satisfied: httpx in ./.local/lib/python3.10/site-packages (from gradio) (0.23.1)\n",
      "Requirement already satisfied: toolz in ./.local/lib/python3.10/site-packages (from altair>=4.2.0->gradio) (0.12.0)\n",
      "Requirement already satisfied: entrypoints in /usr/lib/python3/dist-packages (from altair>=4.2.0->gradio) (0.4)\n",
      "Requirement already satisfied: jsonschema>=3.0 in /usr/lib/python3/dist-packages (from altair>=4.2.0->gradio) (3.2.0)\n",
      "Requirement already satisfied: typing-extensions>=3.7.4.3 in ./.local/lib/python3.10/site-packages (from huggingface-hub<1.0,>=0.10.0->transformers) (4.4.0)\n",
      "Requirement already satisfied: debugpy<2.0,>=1.0.0 in ./.local/lib/python3.10/site-packages (from ipykernel>=4.5.1->ipywidgets) (1.6.4)\n",
      "Requirement already satisfied: pytz>=2020.1 in /usr/lib/python3/dist-packages (from pandas->gradio) (2022.1)\n",
      "Requirement already satisfied: python-dateutil>=2.8.1 in /usr/lib/python3/dist-packages (from pandas->gradio) (2.8.1)\n",
      "Requirement already satisfied: multidict<7.0,>=4.5 in ./.local/lib/python3.10/site-packages (from aiohttp->gradio) (6.0.4)\n",
      "Requirement already satisfied: charset-normalizer<3.0,>=2.0 in ./.local/lib/python3.10/site-packages (from aiohttp->gradio) (2.1.1)\n",
      "Requirement already satisfied: aiosignal>=1.1.2 in ./.local/lib/python3.10/site-packages (from aiohttp->gradio) (1.3.1)\n",
      "Requirement already satisfied: async-timeout<5.0,>=4.0.0a3 in ./.local/lib/python3.10/site-packages (from aiohttp->gradio) (4.0.2)\n",
      "Requirement already satisfied: yarl<2.0,>=1.0 in ./.local/lib/python3.10/site-packages (from aiohttp->gradio) (1.8.2)\n",
      "Requirement already satisfied: attrs>=17.3.0 in /usr/lib/python3/dist-packages (from aiohttp->gradio) (21.2.0)\n",
      "Requirement already satisfied: frozenlist>=1.1.1 in ./.local/lib/python3.10/site-packages (from aiohttp->gradio) (1.3.3)\n",
      "Requirement already satisfied: starlette==0.22.0 in ./.local/lib/python3.10/site-packages (from fastapi->gradio) (0.22.0)\n",
      "Requirement already satisfied: anyio<5,>=3.4.0 in ./.local/lib/python3.10/site-packages (from starlette==0.22.0->fastapi->gradio) (3.6.2)\n",
      "Requirement already satisfied: rfc3986[idna2008]<2,>=1.3 in ./.local/lib/python3.10/site-packages (from httpx->gradio) (1.5.0)\n",
      "Requirement already satisfied: sniffio in ./.local/lib/python3.10/site-packages (from httpx->gradio) (1.3.0)\n",
      "Requirement already satisfied: certifi in /usr/lib/python3/dist-packages (from httpx->gradio) (2020.6.20)\n",
      "Requirement already satisfied: httpcore<0.17.0,>=0.15.0 in ./.local/lib/python3.10/site-packages (from httpx->gradio) (0.16.3)\n",
      "Requirement already satisfied: mdurl~=0.1 in ./.local/lib/python3.10/site-packages (from markdown-it-py[linkify,plugins]->gradio) (0.1.2)\n",
      "Requirement already satisfied: linkify-it-py~=1.0 in ./.local/lib/python3.10/site-packages (from markdown-it-py[linkify,plugins]->gradio) (1.0.3)\n",
      "Requirement already satisfied: mdit-py-plugins in ./.local/lib/python3.10/site-packages (from markdown-it-py[linkify,plugins]->gradio) (0.3.3)\n",
      "Requirement already satisfied: six>=1.4.0 in /usr/lib/python3/dist-packages (from python-multipart->gradio) (1.16.0)\n",
      "Requirement already satisfied: click>=7.0 in /usr/lib/python3/dist-packages (from uvicorn->gradio) (8.0.3)\n",
      "Requirement already satisfied: h11>=0.8 in ./.local/lib/python3.10/site-packages (from uvicorn->gradio) (0.14.0)\n",
      "Requirement already satisfied: uc-micro-py in ./.local/lib/python3.10/site-packages (from linkify-it-py~=1.0->markdown-it-py[linkify,plugins]->gradio) (1.0.1)\n",
      "Requirement already satisfied: idna in /usr/lib/python3/dist-packages (from rfc3986[idna2008]<2,>=1.3->httpx->gradio) (3.3)\n"
     ]
    }
   ],
   "source": [
    "!pip install transformers ipywidgets gradio --upgrade"
   ]
  },
  {
   "cell_type": "code",
   "execution_count": 5,
   "id": "9569c555",
   "metadata": {},
   "outputs": [],
   "source": [
    "import gradio as gr                   # UI library\n",
    "from transformers import pipeline     # Transformers pipeline"
   ]
  },
  {
   "cell_type": "markdown",
   "id": "e6e7d3da",
   "metadata": {},
   "source": [
    "# 2. Load Up Pipeline"
   ]
  },
  {
   "cell_type": "code",
   "execution_count": 6,
   "id": "6a7baa14",
   "metadata": {},
   "outputs": [
    {
     "name": "stderr",
     "output_type": "stream",
     "text": [
      "No model was supplied, defaulted to t5-base and revision 686f1db (https://huggingface.co/t5-base).\n",
      "Using a pipeline without specifying a model name and revision in production is not recommended.\n"
     ]
    },
    {
     "data": {
      "application/vnd.jupyter.widget-view+json": {
       "model_id": "413a527830e14370a165fa0e4c391a80",
       "version_major": 2,
       "version_minor": 0
      },
      "text/plain": [
       "Downloading:   0%|          | 0.00/1.21k [00:00<?, ?B/s]"
      ]
     },
     "metadata": {},
     "output_type": "display_data"
    },
    {
     "data": {
      "application/vnd.jupyter.widget-view+json": {
       "model_id": "c7fd23a52e874d47bd17a51f00ba8feb",
       "version_major": 2,
       "version_minor": 0
      },
      "text/plain": [
       "Downloading:   0%|          | 0.00/892M [00:00<?, ?B/s]"
      ]
     },
     "metadata": {},
     "output_type": "display_data"
    },
    {
     "data": {
      "application/vnd.jupyter.widget-view+json": {
       "model_id": "8542c6d7d3014998905d64e1cb9f8be9",
       "version_major": 2,
       "version_minor": 0
      },
      "text/plain": [
       "Downloading:   0%|          | 0.00/792k [00:00<?, ?B/s]"
      ]
     },
     "metadata": {},
     "output_type": "display_data"
    },
    {
     "data": {
      "application/vnd.jupyter.widget-view+json": {
       "model_id": "aef4ecbc4c554a87a8ce977a1f92db67",
       "version_major": 2,
       "version_minor": 0
      },
      "text/plain": [
       "Downloading:   0%|          | 0.00/1.39M [00:00<?, ?B/s]"
      ]
     },
     "metadata": {},
     "output_type": "display_data"
    },
    {
     "name": "stderr",
     "output_type": "stream",
     "text": [
      "/home/ala/.local/lib/python3.10/site-packages/transformers/models/t5/tokenization_t5_fast.py:155: FutureWarning: This tokenizer was incorrectly instantiated with a model max length of 512 which will be corrected in Transformers v5.\n",
      "For now, this behavior is kept to avoid breaking backwards compatibility when padding/encoding with `truncation is True`.\n",
      "- Be aware that you SHOULD NOT rely on t5-base automatically truncating your input to 512 when padding/encoding.\n",
      "- If you want to encode/pad to sequences longer than 512 you can either instantiate this tokenizer with `model_max_length` or pass `max_length` when encoding/padding.\n",
      "- To avoid this warning, please instantiate this tokenizer with `model_max_length` set to your preferred value.\n",
      "  warnings.warn(\n"
     ]
    }
   ],
   "source": [
    "translation_pipeline = pipeline('translation_en_to_fr')"
   ]
  },
  {
   "cell_type": "code",
   "execution_count": 7,
   "id": "703e4ca8",
   "metadata": {},
   "outputs": [],
   "source": [
    "results = translation_pipeline('I love ice cream')"
   ]
  },
  {
   "cell_type": "code",
   "execution_count": 9,
   "id": "6cba1e79",
   "metadata": {},
   "outputs": [
    {
     "data": {
      "text/plain": [
       "\"J'aime la crème glacée\""
      ]
     },
     "execution_count": 9,
     "metadata": {},
     "output_type": "execute_result"
    }
   ],
   "source": [
    "results[0]['translation_text']"
   ]
  },
  {
   "cell_type": "markdown",
   "id": "08849220",
   "metadata": {},
   "source": [
    "# 3. Create Gradio Function and Interface"
   ]
  },
  {
   "cell_type": "code",
   "execution_count": 10,
   "id": "a2a7dd48",
   "metadata": {},
   "outputs": [],
   "source": [
    "def translate_transformers(from_text):\n",
    "    results = translation_pipeline(from_text)\n",
    "    return results[0]['translation_text']"
   ]
  },
  {
   "cell_type": "code",
   "execution_count": 11,
   "id": "e4ace918",
   "metadata": {},
   "outputs": [
    {
     "data": {
      "text/plain": [
       "'Mon nom est Alaa'"
      ]
     },
     "execution_count": 11,
     "metadata": {},
     "output_type": "execute_result"
    }
   ],
   "source": [
    "translate_transformers('My name is Alaa')"
   ]
  },
  {
   "cell_type": "code",
   "execution_count": 12,
   "id": "ea71af0d",
   "metadata": {},
   "outputs": [
    {
     "name": "stderr",
     "output_type": "stream",
     "text": [
      "/home/ala/.local/lib/python3.10/site-packages/gradio/inputs.py:26: UserWarning: Usage of gradio.inputs is deprecated, and will not be supported in the future, please import your component from gradio.components\n",
      "  warnings.warn(\n",
      "/home/ala/.local/lib/python3.10/site-packages/gradio/deprecation.py:40: UserWarning: `optional` parameter is deprecated, and it has no effect\n",
      "  warnings.warn(value)\n",
      "/home/ala/.local/lib/python3.10/site-packages/gradio/deprecation.py:40: UserWarning: `numeric` parameter is deprecated, and it has no effect\n",
      "  warnings.warn(value)\n"
     ]
    }
   ],
   "source": [
    "interface = gr.Interface(fn=translate_transformers, \n",
    "                         inputs=gr.inputs.Textbox(lines=2, placeholder='Text to translate'),\n",
    "                        outputs='text')\n"
   ]
  },
  {
   "cell_type": "code",
   "execution_count": 14,
   "id": "d590abbc",
   "metadata": {},
   "outputs": [],
   "source": [
    "interface = gr.Interface(fn=translate_transformers, \n",
    "                         inputs=gr.inputs.Textbox(lines=2, placeholder='Text to translate'),\n",
    "                        outputs='text')\n"
   ]
  },
  {
   "cell_type": "code",
   "execution_count": 15,
   "id": "d8968cdc",
   "metadata": {},
   "outputs": [
    {
     "name": "stdout",
     "output_type": "stream",
     "text": [
      "Running on local URL:  http://127.0.0.1:7860\n",
      "\n",
      "To create a public link, set `share=True` in `launch()`.\n"
     ]
    },
    {
     "data": {
      "text/html": [
       "<div><iframe src=\"http://127.0.0.1:7860/\" width=\"100%\" height=\"500\" allow=\"autoplay; camera; microphone; clipboard-read; clipboard-write;\" frameborder=\"0\" allowfullscreen></iframe></div>"
      ],
      "text/plain": [
       "<IPython.core.display.HTML object>"
      ]
     },
     "metadata": {},
     "output_type": "display_data"
    },
    {
     "data": {
      "text/plain": []
     },
     "execution_count": 15,
     "metadata": {},
     "output_type": "execute_result"
    }
   ],
   "source": [
    "interface.launch()"
   ]
  },
  {
   "cell_type": "code",
   "execution_count": null,
   "id": "1f78caaa",
   "metadata": {},
   "outputs": [],
   "source": []
  }
 ],
 "metadata": {
  "kernelspec": {
   "display_name": "Python 3 (ipykernel)",
   "language": "python",
   "name": "python3"
  },
  "language_info": {
   "codemirror_mode": {
    "name": "ipython",
    "version": 3
   },
   "file_extension": ".py",
   "mimetype": "text/x-python",
   "name": "python",
   "nbconvert_exporter": "python",
   "pygments_lexer": "ipython3",
   "version": "3.10.6"
  }
 },
 "nbformat": 4,
 "nbformat_minor": 5
}
